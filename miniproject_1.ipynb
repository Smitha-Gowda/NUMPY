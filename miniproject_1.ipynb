{
  "nbformat": 4,
  "nbformat_minor": 0,
  "metadata": {
    "colab": {
      "provenance": []
    },
    "kernelspec": {
      "name": "python3",
      "display_name": "Python 3"
    },
    "language_info": {
      "name": "python"
    }
  },
  "cells": [
    {
      "cell_type": "markdown",
      "source": [
        "1. data creation : create a suitable arrays to represent students,subjects,amd their marks\n"
      ],
      "metadata": {
        "id": "8CdrkRF7bMsv"
      }
    },
    {
      "cell_type": "code",
      "source": [
        "import numpy as np\n",
        "students = [\"smitha\", \"vidhya\", \"manasa\"]\n",
        "subjects = [\"tamil\", \"Science\", \"GK\"]\n",
        "marks_data = [[80, 85, 78]]\n",
        "marks = np.array(marks_data)\n",
        "print(\"Student:\", students)\n",
        "print(\"Subject:\", subjects)\n",
        "print(marks)"
      ],
      "metadata": {
        "colab": {
          "base_uri": "https://localhost:8080/"
        },
        "id": "U2oZ8p9XbQas",
        "outputId": "3d5a22cb-572b-462d-ef43-acdc5bb3ca62"
      },
      "execution_count": 3,
      "outputs": [
        {
          "output_type": "stream",
          "name": "stdout",
          "text": [
            "Student: ['smitha', 'vidhya', 'manasa']\n",
            "Subject: ['tamil', 'Science', 'GK']\n",
            "[[80 85 78]]\n"
          ]
        }
      ]
    },
    {
      "cell_type": "markdown",
      "source": [
        "2. data exploration: explore the properties of these arrays ,such as their dimensions,size,and structure\n",
        "\n"
      ],
      "metadata": {
        "id": "JE1TDXkRbeOy"
      }
    },
    {
      "cell_type": "code",
      "source": [
        "np.size\n",
        "students"
      ],
      "metadata": {
        "colab": {
          "base_uri": "https://localhost:8080/"
        },
        "id": "_TaR5-cNbi0n",
        "outputId": "466b87fb-00bc-4033-bdb5-7034209d4ff4"
      },
      "execution_count": 4,
      "outputs": [
        {
          "output_type": "execute_result",
          "data": {
            "text/plain": [
              "['smitha', 'vidhya', 'manasa']"
            ]
          },
          "metadata": {},
          "execution_count": 4
        }
      ]
    },
    {
      "cell_type": "code",
      "source": [
        "students=np.ndim\n",
        "students"
      ],
      "metadata": {
        "colab": {
          "base_uri": "https://localhost:8080/"
        },
        "id": "Hfmk_vvcbx8h",
        "outputId": "b5f0d97c-519a-4eae-b573-796906e57d6e"
      },
      "execution_count": 5,
      "outputs": [
        {
          "output_type": "execute_result",
          "data": {
            "text/plain": [
              "<function ndim at 0x782641f6e630>"
            ]
          },
          "metadata": {},
          "execution_count": 5
        }
      ]
    },
    {
      "cell_type": "markdown",
      "source": [
        "3. data transformation : perform necessary reshaping and regognising of the data to suit various operations.\n",
        "\n"
      ],
      "metadata": {
        "id": "Q4j24gS7brrM"
      }
    },
    {
      "cell_type": "code",
      "source": [],
      "metadata": {
        "colab": {
          "base_uri": "https://localhost:8080/"
        },
        "id": "A7cdZxU-bstp",
        "outputId": "dbf583cb-3353-4563-b44f-052df79610b5"
      },
      "execution_count": 13,
      "outputs": [
        {
          "output_type": "execute_result",
          "data": {
            "text/plain": [
              "<function ndim at 0x782641f6e630>"
            ]
          },
          "metadata": {},
          "execution_count": 13
        }
      ]
    },
    {
      "cell_type": "markdown",
      "source": [
        "4. Data combination: merge or split arrays to stimulate adding new students ,new subjects,or recognaising the datasets"
      ],
      "metadata": {
        "id": "u791sjdNcauh"
      }
    },
    {
      "cell_type": "code",
      "source": [],
      "metadata": {
        "id": "2oW-Ma3Tcozu"
      },
      "execution_count": null,
      "outputs": []
    },
    {
      "cell_type": "markdown",
      "source": [
        "5.data modification: apply operations to update marks,remove data,or identify unique information"
      ],
      "metadata": {
        "id": "SkIc1azhcpRP"
      }
    },
    {
      "cell_type": "code",
      "source": [],
      "metadata": {
        "id": "CO-kPKjyc3P5"
      },
      "execution_count": null,
      "outputs": []
    },
    {
      "cell_type": "markdown",
      "source": [
        "6.data type handling: demonstrate how the same data can exist in different,data types and how changes affect results"
      ],
      "metadata": {
        "id": "7swB7k4qc3tp"
      }
    },
    {
      "cell_type": "code",
      "source": [],
      "metadata": {
        "id": "Kx5EwQUPdJmI"
      },
      "execution_count": null,
      "outputs": []
    },
    {
      "cell_type": "markdown",
      "source": [
        "7.copy and view behaviour: show the difference between creating a full copy of an array and creating a view of the same data."
      ],
      "metadata": {
        "id": "tQRyxaQ0dJ7e"
      }
    },
    {
      "cell_type": "code",
      "source": [],
      "metadata": {
        "id": "wL9yOWwAdgiC"
      },
      "execution_count": null,
      "outputs": []
    }
  ]
}